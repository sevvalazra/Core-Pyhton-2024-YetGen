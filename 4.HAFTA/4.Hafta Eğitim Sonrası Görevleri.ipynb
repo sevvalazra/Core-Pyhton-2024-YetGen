{
 "cells": [
  {
   "cell_type": "markdown",
   "metadata": {},
   "source": [
    "# Problem 1\n",
    "`ogrenciler` adında bir sözlük oluşturunuz. Kullanıcıdan döngü yardımıyla 3 öğrenci için veri girmesini isteyerek öğrencilerin sırasıyla okul numarası, isim, soy isim, telefon numarası ve doğum tarihi bilgilerini alınız. Aldığınız öğrenci bilgilerini yine aynı döngü yardımıyla `ogrenciler` adındaki sözlükte saklayınız. Daha sonra öğrenci bilgilerinin bulunduğu sözlük yapısını ekrana bastırınız.\n",
    "\n"
   ]
  },
  {
   "cell_type": "code",
   "execution_count": 2,
   "metadata": {},
   "outputs": [
    {
     "name": "stdout",
     "output_type": "stream",
     "text": [
      "{0: {'No': '32340036', 'İsim': 'Şevval Azra', 'Soyisim': 'Aydın', 'Telefon Numarası': '0543 692 5959'}}\n",
      "{0: {'No': '32340036', 'İsim': 'Şevval Azra', 'Soyisim': 'Aydın', 'Telefon Numarası': '0543 692 5959'}, 1: {'No': '32350009', 'İsim': 'Enes Berke', 'Soyisim': 'Aydın', 'Telefon Numarası': '0534 654 5959'}}\n",
      "{0: {'No': '32340036', 'İsim': 'Şevval Azra', 'Soyisim': 'Aydın', 'Telefon Numarası': '0543 692 5959'}, 1: {'No': '32350009', 'İsim': 'Enes Berke', 'Soyisim': 'Aydın', 'Telefon Numarası': '0534 654 5959'}, 2: {'No': '73693658', 'İsim': 'Nilay', 'Soyisim': 'Kabaağaç', 'Telefon Numarası': '0563 864 3434'}}\n"
     ]
    }
   ],
   "source": [
    "öğrenciler = {}\n",
    "for i in range(3):\n",
    "    no = input(f\"{i+1}. öğrencinin okul numarasını giriniz:\")\n",
    "    ad = input(f\"{i+1}. öğrencinin adını giriniz:\")\n",
    "    soyad = input(f\"{i+1}.öğrencinin soyadını giriniz:\")\n",
    "    telefon = input(f\"{i+1}. öğrencinin telefon numarasını giriniz:\")\n",
    "    öğrenciler[i] = {\n",
    "        \"No\": no,\n",
    "        \"İsim\": ad,\n",
    "        \"Soyisim\": soyad,\n",
    "        \"Telefon Numarası\": telefon\n",
    "    }\n",
    "\n",
    "    print(öğrenciler)\n"
   ]
  },
  {
   "cell_type": "markdown",
   "metadata": {},
   "source": [
    "# Problem 2\n",
    "\n",
    "### a - Biraz ısınarak başlayalım!\n",
    "\n",
    "```\n",
    "numbers = [5,10,10,15,15,15,20,20,20,20]\n",
    "```\n",
    "\n",
    "Yukarıda `numbers` adında 10 elemanlı bir liste verilmiştir. Bu listenin her elemanını kontrol eden ve tekrar eden elemanları bir kez olacak şekilde başka bir listeye kopyalayan bir program yazınız. Son olarak oluşturduğunuz listeyi ekrana bastırınız.\n",
    "\n",
    "\n",
    "\n",
    "\n",
    "```\n",
    ">Output\n",
    "[5, 10, 15, 20]\n",
    "```\n"
   ]
  },
  {
   "cell_type": "code",
   "execution_count": 4,
   "metadata": {},
   "outputs": [
    {
     "name": "stdout",
     "output_type": "stream",
     "text": [
      "[5]\n",
      "[5, 10]\n",
      "[5, 10, 15]\n",
      "[5, 10, 15, 20]\n"
     ]
    }
   ],
   "source": [
    "numbers = [5,10,10,15,15,15,20,20,20,20]\n",
    "uniqe= []\n",
    "for i in numbers:\n",
    " if i in uniqe:\n",
    "  continue\n",
    " else:\n",
    "  uniqe.append(i)\n",
    "  print(uniqe)\n"
   ]
  },
  {
   "cell_type": "markdown",
   "metadata": {},
   "source": [
    "### 🌶️ b) Hadi işi biraz daha zorlaştıralım! \n",
    "\n",
    "\n",
    "Şimdiyse senden `numbers` isimli listedeki tekrar eden elemanları `repeatNumbers` adındaki listeye; tekrar etmeyen elemanları `uniqueNumbers`adındaki listeye kopyalayan yazmanı ve listeleri ekrana bastırmanı bekliyoruz\n",
    "\n",
    "```\n",
    ">Output\n",
    "Tekrar Eden Elemanlar: [10, 10, 15, 15, 15, 20, 20, 20, 20]\n",
    "Tekrar Etmeyen Elemanlar: [5]\n",
    "```"
   ]
  },
  {
   "cell_type": "code",
   "execution_count": 4,
   "metadata": {},
   "outputs": [
    {
     "name": "stdout",
     "output_type": "stream",
     "text": [
      "Tekrar eden elemanlar:[10, 10, 15, 15, 15, 20, 20, 20, 20]\n",
      "Tekrar etmeyen elemanlar: [5]\n"
     ]
    }
   ],
   "source": [
    "numbers = [5,10,10,15,15,15,20,20,20,20]\n",
    "\n",
    "repeat = []\n",
    "unique = []\n",
    "\n",
    "for i in numbers:\n",
    "    if numbers.count(i) == 1:\n",
    "        unique.append(i)\n",
    "    else:\n",
    "        repeat.append(i)\n",
    "\n",
    "print(f\"Tekrar eden elemanlar:{repeat}\")\n",
    "print(f\"Tekrar etmeyen elemanlar: {unique}\")"
   ]
  },
  {
   "cell_type": "markdown",
   "metadata": {},
   "source": [
    "# Problem 3\n",
    "sn1 = {1,2,3,4,5}\n",
    "\n",
    "sn2 = {4,5,6,7,8}\n",
    "\n",
    " Verilen 2 adet küme için kesişimlerini, farklarını ve birleşimlerini bulunuz. "
   ]
  },
  {
   "cell_type": "code",
   "execution_count": 6,
   "metadata": {},
   "outputs": [
    {
     "name": "stdout",
     "output_type": "stream",
     "text": [
      "Birleşim: {1, 2, 3, 4, 5, 6, 7, 8}\n",
      "Kesişim: {4, 5}\n",
      "Fark: {1, 2, 3}\n"
     ]
    }
   ],
   "source": [
    "sn1 = {1,2,3,4,5}\n",
    "\n",
    "sn2 = {4,5,6,7,8}\n",
    "\n",
    "birleşim = sn1.union(sn2)\n",
    "kesişim= sn1.intersection(sn2)\n",
    "fark = sn1.difference(sn2)\n",
    "print(f\"Birleşim: {birleşim}\")\n",
    "print(f\"Kesişim: {kesişim}\")\n",
    "print(f\"Fark: {fark}\")\n"
   ]
  },
  {
   "cell_type": "markdown",
   "metadata": {},
   "source": [
    "# Problem 4\n",
    "\n",
    "Buradaki işlemlerimizin tamamı stringler içindir. Aşağıda verilecek olan metodlar için kendinizin örnek yaratması gerekmektedir. \n",
    "\n",
    "Örneğin `upper` için `string` değişkeni oluştururken` k = \"BAC\"` şeklinde oluşturmayınız. Bunun yerine k değişkenini `k = \"bac`\" şeklinde oluşturmanız `upper` metodundaki değişimi görebilmeniz için daha iyi olacaktır.\n",
    "\n",
    "Bütün metodlardaki değişimin gözle görülür şekilde değişimi beklenmektedir.\n",
    "\n",
    "\n",
    "1- capitalize(), lower(), upper(), swapcase(), title(), replace()\n",
    "\n",
    "2- endswith(), startswith(), find(), index(), count()\n",
    "\n",
    "3- split(), strip(), join(), islower(), isalpha(), isdigit()\n",
    "\n",
    "\n",
    "Yukarıdaki `string` metodlarındaki değişimleri görebildiğimiz bir program yazınız.\n"
   ]
  },
  {
   "cell_type": "code",
   "execution_count": 9,
   "metadata": {},
   "outputs": [
    {
     "name": "stdout",
     "output_type": "stream",
     "text": [
      "Yetgen core ile pyhton\n",
      "yetgen core ile pyhton\n",
      "YETGEN CORE ILE PYHTON\n",
      "yETgEN cORE ILE pYHTON\n",
      "Yetgen Core Ile Pyhton\n",
      "YetGen Core ile Pyhton\n",
      "True\n",
      "False\n",
      "16\n",
      "7\n"
     ]
    }
   ],
   "source": [
    "k=\"YetGen Core ile Pyhton\"\n",
    "\n",
    "print(k.capitalize())\n",
    "print(k.lower())\n",
    "print(k.upper())\n",
    "print(k.swapcase())\n",
    "print(k.title())\n",
    "print(k.replace(\"Python\" , \"21.Yüzyıl Yetkinlikleri\"))\n",
    "print(k.endswith(\"Pyhton\"))\n",
    "print(k.startswith(\"Azra\"))\n",
    "print(k.find(\"Pyhton\"))\n",
    "print(k.index(\"Core\"))"
   ]
  }
 ],
 "metadata": {
  "kernelspec": {
   "display_name": "Python 3.10.5 64-bit",
   "language": "python",
   "name": "python3"
  },
  "language_info": {
   "codemirror_mode": {
    "name": "ipython",
    "version": 3
   },
   "file_extension": ".py",
   "mimetype": "text/x-python",
   "name": "python",
   "nbconvert_exporter": "python",
   "pygments_lexer": "ipython3",
   "version": "3.12.3"
  },
  "orig_nbformat": 4,
  "vscode": {
   "interpreter": {
    "hash": "5026d2d6e7aaaaba093def813beadff083d8733e4a511af01735cbabd156995d"
   }
  }
 },
 "nbformat": 4,
 "nbformat_minor": 2
}
